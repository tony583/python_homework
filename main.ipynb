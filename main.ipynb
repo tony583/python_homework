{
 "cells": [
  {
   "cell_type": "code",
   "execution_count": 130,
   "id": "de0d9cf9-899e-4f27-9ff6-8fcd7b6cc350",
   "metadata": {},
   "outputs": [
    {
     "ename": "IndentationError",
     "evalue": "unexpected indent (Temp/ipykernel_19356/3098015186.py, line 27)",
     "output_type": "error",
     "traceback": [
      "\u001b[1;36m  File \u001b[1;32m\"C:\\Users\\ADMIN\\AppData\\Local\\Temp/ipykernel_19356/3098015186.py\"\u001b[1;36m, line \u001b[1;32m27\u001b[0m\n\u001b[1;33m    ```\u001b[0m\n\u001b[1;37m    ^\u001b[0m\n\u001b[1;31mIndentationError\u001b[0m\u001b[1;31m:\u001b[0m unexpected indent\n"
     ]
    }
   ],
   "source": [
    "### ![Revenue](Images/revenue-per-lead.jpg)\n",
    "\n",
    "#            In this activity, you are tasked with creating a Python script for analyzing the financial records of your company. You will be provided with a financial dataset in this file: [budget_data.csv](PyBank/Resources/budget_data.csv). This dataset is composed of two columns, Date and Profit/Losses. (Thankfully, your company has rather lax standards for accounting, so the records are simple.)\n",
    "\n",
    "#            Your task is to create a Python script that analyzes the records to calculate each of the following:\n",
    "\n",
    "#           * The total number of months included in the dataset.\n",
    "\n",
    "#            * The net total amount of Profit/Losses over the entire period.\n",
    "\n",
    "#            * The average of the changes in Profit/Losses over the entire period.\n",
    "\n",
    "#            * The greatest increase in profits (date and amount) over the entire period.\n",
    "\n",
    "#            * The greatest decrease in losses (date and amount) over the entire period.\n",
    "\n",
    "#            Your resulting analysis should look similar to the following:\n",
    "\n",
    "#              ```text\n",
    "#              Financial Analysis\n",
    "#              ----------------------------\n",
    "#              Total Months: 86\n",
    "#              Total: $38382578\n",
    "#              Average  Change: $-2315.12\n",
    "#              Greatest Increase in Profits: Feb-2012 ($1926159)\n",
    "#              Greatest Decrease in Profits: Sep-2013 ($-2196167)\n",
    "              ```\n",
    "\n",
    "#            Your final script should print the analysis to the terminal and export a text file with the results.\n"
   ]
  },
  {
   "cell_type": "code",
   "execution_count": null,
   "id": "023a5c8a-4738-4210-a0ba-a2609cf141ea",
   "metadata": {},
   "outputs": [],
   "source": [
    "import pandas as pd\n",
    "from pathlib import Path"
   ]
  },
  {
   "cell_type": "code",
   "execution_count": null,
   "id": "dd94754d-b266-4ad8-8ee5-43d7779126a6",
   "metadata": {},
   "outputs": [],
   "source": [
    "budget_path = Path('PyBank/Resources/budget_data.csv')"
   ]
  },
  {
   "cell_type": "code",
   "execution_count": null,
   "id": "28f698c7-2d60-481f-a6cc-ba6fc83a00a1",
   "metadata": {},
   "outputs": [],
   "source": [
    "budget_data = pd.read_csv(budget_path)\n",
    "budget_data"
   ]
  },
  {
   "cell_type": "code",
   "execution_count": 131,
   "id": "c6b68646-6c87-4f65-a8f5-b8eaee165e25",
   "metadata": {},
   "outputs": [
    {
     "name": "stdout",
     "output_type": "stream",
     "text": [
      "Total number of months is: 86\n"
     ]
    }
   ],
   "source": [
    "# The total number of months included in the dataset.\n",
    "count = budget_data['Date'].count()\n",
    "print(f'Total number of months is: {count}')"
   ]
  },
  {
   "cell_type": "code",
   "execution_count": 134,
   "id": "45a5e549-fa51-4f6c-92fd-a53399c188f9",
   "metadata": {},
   "outputs": [
    {
     "name": "stdout",
     "output_type": "stream",
     "text": [
      "The total amount of Profit/Loss is $ 38382578\n"
     ]
    }
   ],
   "source": [
    "# The net total amount of Profit/Losses over the entire period.\n",
    "budget_data['Profit/Losses'].sum()\n",
    "print('The total amount of Profit/Loss is $',budget_data['Profit/Losses'].sum())"
   ]
  },
  {
   "cell_type": "code",
   "execution_count": 87,
   "id": "4b279815-da17-46a5-ad2b-460e233862b2",
   "metadata": {},
   "outputs": [
    {
     "name": "stdout",
     "output_type": "stream",
     "text": [
      "the average change in profit/losses is $ -2288.2\n"
     ]
    }
   ],
   "source": [
    "# The average of the changes in Profit/Losses over the entire period.\n",
    "\n",
    "budget_data['change'] = budget_data['Profit/Losses'].shift(1) \n",
    "budget_data['difference']=budget_data['Profit/Losses'] - budget_data['change']\n",
    "avg = budget_data['difference'].sum() / len(budget_data['Profit/Losses'])\n",
    "print('the average change in profit/losses is $',round(avg,2))\n"
   ]
  },
  {
   "cell_type": "code",
   "execution_count": 129,
   "id": "09e4e028-fa8c-4f9f-ba9f-b060bd483b6b",
   "metadata": {},
   "outputs": [
    {
     "name": "stdout",
     "output_type": "stream",
     "text": [
      "Greatest Increase in Profits: $1926159.0\n"
     ]
    }
   ],
   "source": [
    "# The greatest increase in profits (date and amount) over the entire period.\n",
    "max_value = budget_data['difference'].max()\n",
    "print(f'Greatest Increase in Profits: ${max_value}')"
   ]
  },
  {
   "cell_type": "code",
   "execution_count": 124,
   "id": "43a55a6d-73c0-4293-b36d-5480a741bc30",
   "metadata": {},
   "outputs": [
    {
     "name": "stdout",
     "output_type": "stream",
     "text": [
      "Greatest Decrease in Profits: $-2196167.0\n"
     ]
    }
   ],
   "source": [
    "# The greatest decrease in losses (date and amount) over the entire period.\n",
    "min_value = budget_data['difference'].min()\n",
    "print(f'Greatest Decrease in Profits: ${min_value}')"
   ]
  },
  {
   "cell_type": "code",
   "execution_count": null,
   "id": "eb41b88e-d7cb-4bd1-8d87-1f38f1d2ad80",
   "metadata": {},
   "outputs": [],
   "source": []
  },
  {
   "cell_type": "code",
   "execution_count": null,
   "id": "1a9732a8-d0f2-4940-8c97-3e7831ca93a8",
   "metadata": {},
   "outputs": [],
   "source": []
  },
  {
   "cell_type": "code",
   "execution_count": null,
   "id": "b7817ef5-81c8-4604-a203-5fd25a6e0512",
   "metadata": {},
   "outputs": [],
   "source": []
  }
 ],
 "metadata": {
  "kernelspec": {
   "display_name": "Python 3 (ipykernel)",
   "language": "python",
   "name": "python3"
  },
  "language_info": {
   "codemirror_mode": {
    "name": "ipython",
    "version": 3
   },
   "file_extension": ".py",
   "mimetype": "text/x-python",
   "name": "python",
   "nbconvert_exporter": "python",
   "pygments_lexer": "ipython3",
   "version": "3.9.7"
  }
 },
 "nbformat": 4,
 "nbformat_minor": 5
}
